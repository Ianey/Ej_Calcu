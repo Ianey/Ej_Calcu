{
  "nbformat": 4,
  "nbformat_minor": 0,
  "metadata": {
    "colab": {
      "provenance": [],
      "authorship_tag": "ABX9TyPoE9eQ09R6qYi68q3670rQ",
      "include_colab_link": true
    },
    "kernelspec": {
      "name": "python3",
      "display_name": "Python 3"
    },
    "language_info": {
      "name": "python"
    }
  },
  "cells": [
    {
      "cell_type": "markdown",
      "metadata": {
        "id": "view-in-github",
        "colab_type": "text"
      },
      "source": [
        "<a href=\"https://colab.research.google.com/github/Ianey/Ej_Calcu/blob/main/Calculadora_reales.ipynb\" target=\"_parent\"><img src=\"https://colab.research.google.com/assets/colab-badge.svg\" alt=\"Open In Colab\"/></a>"
      ]
    },
    {
      "cell_type": "code",
      "execution_count": 1,
      "metadata": {
        "colab": {
          "base_uri": "https://localhost:8080/"
        },
        "id": "UWq4Qcj0Rzrn",
        "outputId": "d915ae3b-0e16-4e9c-87e9-0cccdcf84215"
      },
      "outputs": [
        {
          "output_type": "execute_result",
          "data": {
            "text/plain": [
              "1"
            ]
          },
          "metadata": {},
          "execution_count": 1
        }
      ],
      "source": [
        "1"
      ]
    },
    {
      "cell_type": "markdown",
      "source": [
        "**PROYECTO FINAL** : Calculadora de números reales"
      ],
      "metadata": {
        "id": "CAHXMHjpTnN8"
      }
    },
    {
      "cell_type": "markdown",
      "source": [
        "Nombre: Jesica Ianey Aguilar Soto\n",
        "Fecha: 04/08/2023\n"
      ],
      "metadata": {
        "id": "Ji-MANjJTzwe"
      }
    },
    {
      "cell_type": "code",
      "source": [
        "'''\n",
        "Realizar una calculadora básica que tenga un menú con las operaciones básicas.\n",
        "En el caso de la división tendrá que considerarse que uno no puede dividir entre 0.\n",
        "Hacer el conteo de cada operación que se haga, además imprimir el resultado de todas las operaciones\n",
        "como en un historial el número de operaciones (usar diccionario de preferencia).\n",
        "\n",
        "'''"
      ],
      "metadata": {
        "colab": {
          "base_uri": "https://localhost:8080/",
          "height": 70
        },
        "id": "xTMOICQxT7T6",
        "outputId": "ebac7251-a4e4-4920-aece-d3240b1a8948"
      },
      "execution_count": 2,
      "outputs": [
        {
          "output_type": "execute_result",
          "data": {
            "text/plain": [
              "'\\nRealizar una calculadora básica que tenga un menú con las operaciones básicas. \\nEn el caso de la división tendrá que considerarse que uno no puede dividir entre 0. \\nHacer el conteo de cada operación que se haga, además imprimir el resultado de todas las operaciones \\ncomo en un historial el número de operaciones (usar diccionario de preferencia). \\n\\n'"
            ],
            "application/vnd.google.colaboratory.intrinsic+json": {
              "type": "string"
            }
          },
          "metadata": {},
          "execution_count": 2
        }
      ]
    },
    {
      "cell_type": "code",
      "source": [
        "def suma (numero_1, numero_2):\n",
        "    return numero_1 + numero_2\n",
        "\n",
        "def resta (numero_1, numero_2):\n",
        "    return numero_1 - numero_2\n",
        "\n",
        "def multiplicacion (numero_1, numero_2):\n",
        "    return numero_1 * numero_2\n",
        "\n",
        "def division (numero_1, numero_2):\n",
        "    if numero_2 !=0:\n",
        "        return numero_1 / numero_2"
      ],
      "metadata": {
        "id": "2fmx5HagT-GU"
      },
      "execution_count": 3,
      "outputs": []
    },
    {
      "cell_type": "markdown",
      "source": [
        "*Diccionario para el conteo de operaciones que se realizan*"
      ],
      "metadata": {
        "id": "6D72Pzy-Ubs1"
      }
    },
    {
      "cell_type": "code",
      "source": [
        "conteo_operaciones ={'Suma': 0, 'Resta': 0, 'Multiplicación': 0, 'División': 0}\n"
      ],
      "metadata": {
        "id": "ronVz7vzUDTV"
      },
      "execution_count": 4,
      "outputs": []
    },
    {
      "cell_type": "markdown",
      "source": [
        "*Ciclo While para no detener el código a menos que el usurario lo indíque*"
      ],
      "metadata": {
        "id": "OmTg0IMXUpE1"
      }
    },
    {
      "cell_type": "code",
      "source": [
        "while True:\n",
        "\n",
        "    print('1) Suma')\n",
        "    print('2) Resta')\n",
        "    print('3) Multiplicación')\n",
        "    print('4) División')\n",
        "    print('5) Salir\\n')\n",
        "\n",
        "    operacion = int(input('Selecciona la operación que deseas realizar: '))\n",
        "\n",
        "\n",
        "    if operacion == 1:\n",
        "        print('Elegiste realizar una suma\\n')\n",
        "        numero_1 = float(input('Ingresa el primer número: '))\n",
        "        numero_2 = float(input('Ingresa el segundo número: '))\n",
        "        resultado = suma(numero_1, numero_2)\n",
        "        print(f'La suma es: {numero_1} + {numero_2}  = {resultado}\\n')\n",
        "        conteo_operaciones['Suma'] += 1\n",
        "\n",
        "    elif operacion == 2:\n",
        "        print('Elegiste realizar una resta\\n')\n",
        "        numero_1 = float(input('Ingresa el primer número: '))\n",
        "        numero_2 = float(input('Ingresa el segundo número: '))\n",
        "        resultado = resta(numero_1, numero_2)\n",
        "        print(f'La resta es: {numero_1} - {numero_2}  = {resultado}\\n')\n",
        "        conteo_operaciones['Resta'] += 1\n",
        "\n",
        "    elif operacion == 3:\n",
        "        print('Elegiste realizar una multiplicación\\n')\n",
        "        numero_1 = float(input('Ingresa el primer número: '))\n",
        "        numero_2 = float(input('Ingresa el segundo número: '))\n",
        "        resultado = multiplicacion(numero_1, numero_2)\n",
        "        print(f'El producto es: {numero_1} * {numero_2}  = {resultado}\\n')\n",
        "        conteo_operaciones['Multiplicación'] += 1\n",
        "\n",
        "    elif operacion == 4:\n",
        "        print('Elegiste realizar una división\\n')\n",
        "        numero_1 = float(input('Ingresa el primer número: '))\n",
        "        numero_2 = float(input('Ingresa el segundo número: '))\n",
        "        if numero_2 != 0:\n",
        "            resultado = division(numero_1, numero_2)\n",
        "            print(f'La división es: {numero_1} / {numero_2}  = {resultado}\\n')\n",
        "            conteo_operaciones['División'] += 1\n",
        "        else:\n",
        "            print('ERROR: no es posible dividir entre 0\\n')\n",
        "\n",
        "    elif operacion == 5:\n",
        "        print('¡Hasta pronto! c: \\n')\n",
        "        break\n",
        "\n",
        "    else:\n",
        "        print('Ingresa una opción válida\\n')"
      ],
      "metadata": {
        "colab": {
          "base_uri": "https://localhost:8080/"
        },
        "id": "J78Bo9h8UHC-",
        "outputId": "9d4460c9-bb12-430d-e26e-cc35a10aeb22"
      },
      "execution_count": 9,
      "outputs": [
        {
          "output_type": "stream",
          "name": "stdout",
          "text": [
            "1) Suma\n",
            "2) Resta\n",
            "3) Multiplicación\n",
            "4) División\n",
            "5) Salir\n",
            "\n",
            "Selecciona la operación que deseas realizar: 5\n",
            "¡Hasta pronto! c: \n",
            "\n"
          ]
        }
      ]
    },
    {
      "cell_type": "markdown",
      "source": [
        "*Diicionario para llamar los resultados en el historial*"
      ],
      "metadata": {
        "id": "eMH29TbMVOyU"
      }
    },
    {
      "cell_type": "code",
      "source": [
        "    resultados = {'Resultado de la Suma': suma (numero_1, numero_2),\n",
        "                  'Resultado de la Resta': resta (numero_1, numero_2),\n",
        "                  'Resultado de la Multiplicacion': multiplicacion (numero_1, numero_2),\n",
        "                  'Resultado de la Division': division (numero_1, numero_2) }"
      ],
      "metadata": {
        "id": "bxC4owhvVVBy"
      },
      "execution_count": 10,
      "outputs": []
    },
    {
      "cell_type": "markdown",
      "source": [
        "*Impresión del historial de número de operaciones y de los resultados*"
      ],
      "metadata": {
        "id": "RujkHCm1U6yN"
      }
    },
    {
      "cell_type": "code",
      "source": [
        "print('Historial de conteo de operaciones: \\n')\n",
        "for operacion, conteo in conteo_operaciones.items():\n",
        "    print(f'{operacion}: {conteo} operaciones')\n",
        "\n",
        "print ('Historial de resultado de operaciones: \\n')\n",
        "for resultado in resultados.values():\n",
        "    print(resultado)"
      ],
      "metadata": {
        "colab": {
          "base_uri": "https://localhost:8080/"
        },
        "id": "AtJ0_dw4UQzM",
        "outputId": "182b59c7-352e-4946-e8ee-443215fbbfae"
      },
      "execution_count": 8,
      "outputs": [
        {
          "output_type": "stream",
          "name": "stdout",
          "text": [
            "Historial de conteo de operaciones: \n",
            "\n",
            "Suma: 1 operaciones\n",
            "Resta: 1 operaciones\n",
            "Multiplicación: 0 operaciones\n",
            "División: 0 operaciones\n",
            "Historial de resultado de operaciones: \n",
            "\n",
            "17.0\n",
            "1.0\n",
            "72.0\n",
            "1.125\n"
          ]
        }
      ]
    },
    {
      "cell_type": "code",
      "source": [],
      "metadata": {
        "id": "QEwkTLemUVDN"
      },
      "execution_count": null,
      "outputs": []
    }
  ]
}